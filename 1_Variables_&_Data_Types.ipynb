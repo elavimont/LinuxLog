{
  "cells": [
    {
      "cell_type": "markdown",
      "metadata": {
        "id": "dARFzQyndPjo"
      },
      "source": [
        "# Python Variables & Data Types"
      ]
    },
    {
      "cell_type": "markdown",
      "metadata": {
        "id": "npu1BYNr-57o"
      },
      "source": [
        "# Variables\n",
        "One of the most fundamental concepts of Python is variables. A Python variable is used to store some value or values. Each variable has a name and a data type. We can assign a value to a variable and then reference this value with the variable name.\n",
        "\n",
        "Variables are important because they can allow our code to be more flexible, take input, and can make it easier to read and interpret as well."
      ]
    },
    {
      "cell_type": "markdown",
      "metadata": {
        "id": "nbNdGeu8MOYv"
      },
      "source": [
        "## Assigning Variables\n",
        "A variable is created when you assign a value to it and execute the code."
      ]
    },
    {
      "cell_type": "markdown",
      "metadata": {
        "id": "KZrYZNbKQikY"
      },
      "source": [
        "For example, we assign the variable x a value of 7."
      ]
    },
    {
      "cell_type": "code",
      "execution_count": null,
      "metadata": {
        "id": "vKI96B6gdPjp"
      },
      "outputs": [],
      "source": []
    },
    {
      "cell_type": "markdown",
      "metadata": {
        "id": "71b-iQy2MOYx"
      },
      "source": [
        "We can assign multiple variables on different lines in one cell. For example, we assign variable y to be equal to 11. Press enter to start a new line and create another variable z to be equal to 25. After we execute both lines, both variables have been assigned."
      ]
    },
    {
      "cell_type": "code",
      "execution_count": null,
      "metadata": {
        "id": "N57MZg-5dPj0"
      },
      "outputs": [],
      "source": []
    },
    {
      "cell_type": "markdown",
      "metadata": {
        "id": "xJr3douuMOYx"
      },
      "source": [
        "We just demonstrated a few variables with single letter names. But we can name a variable in other ways as well. A variable name must start with a letter or the underscore character. A variable name can contain numbers but ***cannot*** start with a number.\n"
      ]
    },
    {
      "cell_type": "code",
      "execution_count": null,
      "metadata": {
        "id": "kgu3G7pCMOYx"
      },
      "outputs": [],
      "source": []
    },
    {
      "cell_type": "markdown",
      "metadata": {
        "id": "uBb8jLDGGm6W"
      },
      "source": [
        "\n",
        "We can make our variables easier to read and understand by adding comments to our code. Once a line of code contains the `#` character, anything after it on the same line will be considered a comment and not code."
      ]
    },
    {
      "cell_type": "code",
      "execution_count": null,
      "metadata": {
        "id": "IkqTdx8DGq67"
      },
      "outputs": [],
      "source": [
        "# variable starting with a letter\n",
        "a5 = 20\n",
        "\n",
        "# variable starting with an underscore\n",
        "_a8 = 45\n",
        "\n",
        "# descriptive variable with letter, number, and underscore in its name\n",
        "Company01_EBIDA = 7500"
      ]
    },
    {
      "cell_type": "markdown",
      "metadata": {
        "id": "EMerD-CHdwS8"
      },
      "source": [
        "## Printing Variables\n",
        "If we want to see the value of x, we can type x and execute the code. In Jupyter notebooks, the last line of code is implicitly printed as an output."
      ]
    },
    {
      "cell_type": "code",
      "execution_count": null,
      "metadata": {
        "id": "BlFef8LUdPjs"
      },
      "outputs": [],
      "source": []
    },
    {
      "cell_type": "markdown",
      "metadata": {
        "id": "DvhpLJqPMOYx"
      },
      "source": [
        "However, if we type two variables in different lines, only the last line will be printed. So here we only see the value of z being printed."
      ]
    },
    {
      "cell_type": "code",
      "execution_count": null,
      "metadata": {
        "id": "-nRIh9hoMOYx"
      },
      "outputs": [],
      "source": []
    },
    {
      "cell_type": "markdown",
      "metadata": {
        "id": "eoNB8BJuMOYx"
      },
      "source": [
        "If we want to see the output of both, we can use the `print` function. When we execute this code now, we can see the values of both y and z."
      ]
    },
    {
      "cell_type": "code",
      "execution_count": null,
      "metadata": {
        "id": "EQ6V8UfvMOYx"
      },
      "outputs": [],
      "source": []
    },
    {
      "cell_type": "markdown",
      "metadata": {
        "id": "5P5G0Zg_eBoQ"
      },
      "source": [
        "An important point to keep in mind are that variable names are case sensitive. Let's try to print variable x which we defined earlier. And also try to print variable X, with a capitalized X, as the name.\n",
        "\n",
        "The result shows that Python was able to recognize and print the first variable, but we got an error message for the second line. The green arrow tells us in which line the error occurs. It also tells us what the error is. “name X is not defined”. That means x variable is different from X variable."
      ]
    },
    {
      "cell_type": "code",
      "execution_count": null,
      "metadata": {
        "id": "qvTEWPzfMOYx"
      },
      "outputs": [],
      "source": []
    },
    {
      "cell_type": "markdown",
      "metadata": {
        "id": "aoV2kAUS0kaj"
      },
      "source": [
        "## Reassigning Variables\n",
        "Another important point to note is if you assign a variable multiple times, the latest line of code executed has the final say in what the variable is going to be. In Jupyter notebooks, it is the last cell that ran, while in scripting it is the last line.\n",
        "\n",
        "At the beginning of the lesson, we declared x to equal to 7. If we print x now, we can see the value as 7."
      ]
    },
    {
      "cell_type": "code",
      "execution_count": null,
      "metadata": {
        "id": "qzYnSiG6dPlU"
      },
      "outputs": [],
      "source": []
    },
    {
      "cell_type": "markdown",
      "metadata": {
        "id": "_3BgdksIMOYx"
      },
      "source": [
        "Now, in this next block, we can reassign x to equal 2. We can add a comment to say that we're reassigning x. This time the output shows x equals 2 instead of 7."
      ]
    },
    {
      "cell_type": "code",
      "execution_count": null,
      "metadata": {
        "id": "dF-x0YFqdPlV"
      },
      "outputs": [],
      "source": []
    },
    {
      "cell_type": "markdown",
      "metadata": {
        "id": "f-TpCnzO_XVH"
      },
      "source": [
        "One thing we need to be careful of when reassigning variables is the output of code blocks not matching unexecuted code.\n",
        "\n",
        "For example, if we print x in the code below, we return the result of 7. Then, if we reassign x to do in the code block above, the results below do not update automatically. The change in variable x above is not reflected in the output below. We would need to re-execute the code below to print the new value of x."
      ]
    },
    {
      "cell_type": "code",
      "execution_count": null,
      "metadata": {
        "id": "iPhPvhPxHJ-X"
      },
      "outputs": [],
      "source": []
    },
    {
      "cell_type": "markdown",
      "metadata": {
        "id": "XM9br8yvMOYx"
      },
      "source": [
        "# Data Types\n",
        "The data type of a variable is defined when a value is assigned to the variable. The data type of a variable is a way to classify the type of value that it can represent. This will help determine what type of actions and operations can be performed on it.\n",
        "\n",
        "There are four basic types of data in Python: integers (whole numbers), float (decimal numbers), boolean (True or False), and string (text).\n",
        "\n",
        "To see what data type a variable is, you can apply the `type()` function to the variable."
      ]
    },
    {
      "cell_type": "markdown",
      "metadata": {
        "id": "WeGrmmTBhlGd"
      },
      "source": [
        "### Intergers (int) - Whole Numbers\n",
        "Whole numbers are typically `int` - short for intergers.  This also applies for negative numbers."
      ]
    },
    {
      "cell_type": "code",
      "execution_count": null,
      "metadata": {
        "id": "SQrtSq7ydPkA"
      },
      "outputs": [],
      "source": []
    },
    {
      "cell_type": "code",
      "execution_count": null,
      "metadata": {
        "id": "FHRYtcvDdPkF"
      },
      "outputs": [],
      "source": []
    },
    {
      "cell_type": "markdown",
      "metadata": {
        "id": "pp3Wq6J3MOYy"
      },
      "source": [
        "### Float (float) - Decimal Numbers\n",
        "Numbers with decimals are stored as `float`."
      ]
    },
    {
      "cell_type": "code",
      "execution_count": null,
      "metadata": {
        "id": "pscqbgPEdPkH"
      },
      "outputs": [],
      "source": []
    },
    {
      "cell_type": "markdown",
      "metadata": {
        "id": "LV55rnziMOYy"
      },
      "source": [
        "### Boolean (bool) - True/False\n",
        "A `boolean` value is either `True` or `False`. For example, if we ask whether 10 is larger than 9, it will return the value `True`."
      ]
    },
    {
      "cell_type": "code",
      "execution_count": null,
      "metadata": {
        "id": "JKtRdf7iMOYy"
      },
      "outputs": [],
      "source": []
    },
    {
      "cell_type": "markdown",
      "metadata": {
        "id": "aVao6GtVMOYy"
      },
      "source": [
        "We can also assign a boolean value to a variable. Here we define the variable boolean_a equals `True`. Using the `type` function on this variable, we can see the data type is boolean."
      ]
    },
    {
      "cell_type": "code",
      "execution_count": null,
      "metadata": {
        "id": "i9Rud4ZvdPkO"
      },
      "outputs": [],
      "source": []
    },
    {
      "cell_type": "markdown",
      "metadata": {
        "id": "oCybhEkhjPr-"
      },
      "source": [
        "Boolean values are special text reserved in Python and have to be capitalized. If we assign boolean_b with non-capitalized true, we'll get a error message saying that name \"true\" is not defined"
      ]
    },
    {
      "cell_type": "code",
      "execution_count": null,
      "metadata": {
        "id": "ym7mX-5hdPkR"
      },
      "outputs": [],
      "source": []
    },
    {
      "cell_type": "markdown",
      "metadata": {
        "id": "TKMrml3rdPkT"
      },
      "source": [
        "### Strings (string) - Text\n",
        "A `string` is a list of characters. Strings in Python are declared a special way applying '' or \"\"."
      ]
    },
    {
      "cell_type": "code",
      "execution_count": null,
      "metadata": {
        "id": "khNN3efPdPkc"
      },
      "outputs": [],
      "source": []
    },
    {
      "cell_type": "markdown",
      "metadata": {
        "id": "kKBYcbEBMOYy"
      },
      "source": [
        "Again, we can use `type()` function to see the type of the data."
      ]
    },
    {
      "cell_type": "code",
      "execution_count": null,
      "metadata": {
        "id": "GngaC8RBMOYy"
      },
      "outputs": [],
      "source": []
    },
    {
      "cell_type": "markdown",
      "metadata": {
        "id": "O8m1Yg5WMOYy"
      },
      "source": [
        "While adding the quotation marks or calling the variable name will give us the value of the variable. We're using print function since we're asking Python to print two lines of code."
      ]
    },
    {
      "cell_type": "code",
      "execution_count": null,
      "metadata": {
        "id": "ZefGjOXjdPkX"
      },
      "outputs": [],
      "source": []
    },
    {
      "cell_type": "markdown",
      "metadata": {
        "id": "bLTXh__gnRWQ"
      },
      "source": [
        "A common cause of errors in strings is a string that contains apostrophes. The apostrophe might get mixed together with the single quotation marks and cause errors in our code. That requires us to use a special format to keep the apostrophes in string form."
      ]
    },
    {
      "cell_type": "code",
      "execution_count": null,
      "metadata": {
        "id": "IWr1LMJAdPkj"
      },
      "outputs": [],
      "source": []
    },
    {
      "cell_type": "markdown",
      "metadata": {
        "id": "10QujAnVnf9s"
      },
      "source": [
        "One solution is to use `\" \"` instead of `' '`.\n",
        "\n",
        "However, a better solution is to apply the `\\` before the apostrophe to tell Python that this is not a quotation mark. It is much easier to spot a `\\` next to the `'` than keeping track of different pairs of `''` or `\"\"`."
      ]
    },
    {
      "cell_type": "code",
      "execution_count": null,
      "metadata": {
        "id": "-DDoG_F_dPkl"
      },
      "outputs": [],
      "source": []
    },
    {
      "cell_type": "markdown",
      "metadata": {
        "id": "V1DjcOkVoDgj"
      },
      "source": [
        "## Concatenating Strings\n",
        "A common task in Python, when working with strings, is to concatenate (or combine) multiple strings together. When creating strings, Python automatically concatenates them without spaces."
      ]
    },
    {
      "cell_type": "code",
      "execution_count": null,
      "metadata": {
        "id": "6ebS1uhodPks"
      },
      "outputs": [],
      "source": []
    },
    {
      "cell_type": "markdown",
      "metadata": {
        "id": "lRkYWxCjoK0D"
      },
      "source": [
        "Spaces have to be added within the strings themselves in order to be included.\n",
        "\n",
        "However, using `+` to combine strings is a better practice because for some print statements, as it can get confusing to spot a space between the strings that we are combining.\n",
        "\n",
        "We are also able to use a comma between strings in a print statement. A space will automatically be placed between the strings that are separated by a comma."
      ]
    },
    {
      "cell_type": "code",
      "execution_count": null,
      "metadata": {
        "id": "ARv-XAO-dPku"
      },
      "outputs": [],
      "source": []
    },
    {
      "cell_type": "markdown",
      "metadata": {
        "id": "olXKcnqWMOYy"
      },
      "source": [
        "## Convert and Combine Data Types\n",
        "There may be instances where we will need to convert the `data type` of a variable. For example, this can be the case if we want to combine different types of variables into one string."
      ]
    },
    {
      "cell_type": "markdown",
      "metadata": {
        "id": "HgO3-a6li3Vp"
      },
      "source": [
        "### Convert Data Types\n",
        "We can convert numeric data types, like `int` and `float`, into other variable types by applying a `data type convert` function. For example, `int()` convert the variable `float_a` into an `integer`: the original value 1.25 rounds to 1."
      ]
    },
    {
      "cell_type": "code",
      "execution_count": null,
      "metadata": {
        "id": "1LuJ68Z7dPkK"
      },
      "outputs": [],
      "source": []
    },
    {
      "cell_type": "markdown",
      "metadata": {
        "id": "ghwNVAryMOYz"
      },
      "source": [
        "We can also convert an `integer` into a `float` by applying the `float()` function."
      ]
    },
    {
      "cell_type": "code",
      "execution_count": null,
      "metadata": {
        "id": "PG99aFTIdPkM"
      },
      "outputs": [],
      "source": []
    },
    {
      "cell_type": "markdown",
      "metadata": {
        "id": "0t5CdUirMOYz"
      },
      "source": [
        "We can convert different types of data to strings by using the `str()` function. This is helpful if we want to embed different types of data into a longer text string."
      ]
    },
    {
      "cell_type": "code",
      "execution_count": null,
      "metadata": {
        "id": "8aWBW0_AMOYz"
      },
      "outputs": [],
      "source": [
        "# Convert int to string\n"
      ]
    },
    {
      "cell_type": "code",
      "execution_count": null,
      "metadata": {
        "id": "5jR5dj15JQyH"
      },
      "outputs": [],
      "source": [
        "# Convert float to string\n"
      ]
    },
    {
      "cell_type": "code",
      "execution_count": null,
      "metadata": {
        "id": "UJZoMkaBJRWf"
      },
      "outputs": [],
      "source": [
        "# Convert boolean to string. The evaluation of 2 > 1 returns True, which is then converted into the string of 'True'.\n"
      ]
    },
    {
      "cell_type": "markdown",
      "metadata": {
        "id": "iOI-E6cYlTvU"
      },
      "source": [
        "### Combine Data Types\n",
        "Different types of data cannot be added together in their raw forms.  They have to be converted into the same type in order to combine them.\n",
        "\n",
        "For example, let's create an integer variable called number. If we want to print this variable followed by a string, we'll get an error message."
      ]
    },
    {
      "cell_type": "code",
      "execution_count": null,
      "metadata": {
        "id": "D0zNsnk2dPkg"
      },
      "outputs": [],
      "source": []
    },
    {
      "cell_type": "markdown",
      "metadata": {
        "id": "FDrcA_syMOYz"
      },
      "source": [
        "One solution is to use `str()` to turn the number into a string, and then concatenate the two strings."
      ]
    },
    {
      "cell_type": "code",
      "execution_count": null,
      "metadata": {
        "id": "A2xpysGwdPki"
      },
      "outputs": [],
      "source": []
    }
  ],
  "metadata": {
    "colab": {
      "provenance": []
    },
    "kernelspec": {
      "display_name": "Python 3 (ipykernel)",
      "language": "python",
      "name": "python3"
    },
    "language_info": {
      "codemirror_mode": {
        "name": "ipython",
        "version": 3
      },
      "file_extension": ".py",
      "mimetype": "text/x-python",
      "name": "python",
      "nbconvert_exporter": "python",
      "pygments_lexer": "ipython3",
      "version": "3.8.11"
    }
  },
  "nbformat": 4,
  "nbformat_minor": 0
}